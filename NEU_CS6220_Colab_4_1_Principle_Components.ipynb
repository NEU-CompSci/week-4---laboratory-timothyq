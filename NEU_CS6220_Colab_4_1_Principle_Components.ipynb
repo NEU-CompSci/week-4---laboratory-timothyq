{
  "nbformat": 4,
  "nbformat_minor": 0,
  "metadata": {
    "colab": {
      "provenance": []
    },
    "kernelspec": {
      "name": "python3",
      "display_name": "Python 3"
    },
    "language_info": {
      "name": "python"
    }
  },
  "cells": [
    {
      "cell_type": "code",
      "source": [
        "import pandas as pd\n",
        "\n",
        "!wget https://course.ccs.neu.edu/cs6220/lecture-labs/lecture-3/abalone.csv"
      ],
      "metadata": {
        "colab": {
          "base_uri": "https://localhost:8080/"
        },
        "id": "Qz1zVnbqwJhF",
        "outputId": "682dab69-9ab2-467e-8933-b663df9945d8"
      },
      "execution_count": 1,
      "outputs": [
        {
          "output_type": "stream",
          "name": "stdout",
          "text": [
            "--2023-02-02 02:59:18--  https://course.ccs.neu.edu/cs6220/lecture-labs/lecture-3/abalone.csv\n",
            "Resolving course.ccs.neu.edu (course.ccs.neu.edu)... 129.10.117.35\n",
            "Connecting to course.ccs.neu.edu (course.ccs.neu.edu)|129.10.117.35|:443... connected.\n",
            "HTTP request sent, awaiting response... 200 OK\n",
            "Length: 191962 (187K) [text/csv]\n",
            "Saving to: ‘abalone.csv’\n",
            "\n",
            "abalone.csv         100%[===================>] 187.46K  --.-KB/s    in 0.1s    \n",
            "\n",
            "2023-02-02 02:59:19 (1.91 MB/s) - ‘abalone.csv’ saved [191962/191962]\n",
            "\n"
          ]
        }
      ]
    },
    {
      "cell_type": "markdown",
      "source": [
        "# Read in Abalone data"
      ],
      "metadata": {
        "id": "paHllXrD0paL"
      }
    },
    {
      "cell_type": "code",
      "source": [
        "df = pd.read_csv(\"abalone.csv\")"
      ],
      "metadata": {
        "id": "MDXfwqQrwNBO"
      },
      "execution_count": 2,
      "outputs": []
    },
    {
      "cell_type": "markdown",
      "source": [
        "# Explore the data\n",
        "\n",
        "In this lab, you're going to drop features and scatter the points after projecting along 2 principle components axes.\n",
        "\n",
        "For example, you may drop columns in `Pandas` by typing \n",
        "\n",
        "\n",
        "1. Prune the data. Drop columns `Sex` and/or `Rings`. \\\n",
        "   ```matrix = df.loc[:, df.columns != \"Sex\"]```\n",
        "\n",
        "1. Calculate the covariance matrix. You can calculate the covariance matrix via: \\\n",
        "   $$Cov(X_i, X_j) = \\mathbb{E}[(X_i - \\mu_{x_i})(X_j - \\mu_{x_j})^T]$$\n",
        "\n",
        "1. Calculate the first two components of PCA. You can feel free to use `np.linalg.eig`.\n",
        "\n",
        "1. Verify the principle components. To calculate PCA, feel free to use the PCA function from `scikit.learn`. \\\n",
        "\n",
        "  ```\n",
        "  from sklearn.decomposition import PCA\n",
        "  # Two components of PCA\n",
        "  pca = PCA(2)\n",
        "\n",
        "  # Fit on data\n",
        "  pca.fit(A)\n",
        "\n",
        "  # Access values and vectors\n",
        "  print(pca.components_)\n",
        "  print(pca.explained_variance_)\n",
        "\n",
        "  # transform data\n",
        "  B = pca.transform(A)\n",
        "  print(B)\n",
        "  ```\n",
        "\n",
        "1. Scatter the data to view it in two dimensions"
      ],
      "metadata": {
        "id": "XRByH8x90udO"
      }
    },
    {
      "cell_type": "code",
      "source": [
        "df.head()"
      ],
      "metadata": {
        "id": "GRi456zu2QCr",
        "outputId": "d41b4692-1d72-443f-eacf-0c1ccdcb5281",
        "colab": {
          "base_uri": "https://localhost:8080/",
          "height": 206
        }
      },
      "execution_count": 3,
      "outputs": [
        {
          "output_type": "execute_result",
          "data": {
            "text/plain": [
              "  Sex  Length  Diameter  Height  Whole weight  Shucked weight  Viscera weight  \\\n",
              "0   M   0.455     0.365   0.095        0.5140          0.2245          0.1010   \n",
              "1   M   0.350     0.265   0.090        0.2255          0.0995          0.0485   \n",
              "2   F   0.530     0.420   0.135        0.6770          0.2565          0.1415   \n",
              "3   M   0.440     0.365   0.125        0.5160          0.2155          0.1140   \n",
              "4   I   0.330     0.255   0.080        0.2050          0.0895          0.0395   \n",
              "\n",
              "   Shell weight  Rings  \n",
              "0         0.150     15  \n",
              "1         0.070      7  \n",
              "2         0.210      9  \n",
              "3         0.155     10  \n",
              "4         0.055      7  "
            ],
            "text/html": [
              "\n",
              "  <div id=\"df-3b1a1f21-9cd2-4ca6-9c23-2fd2bd5e116a\">\n",
              "    <div class=\"colab-df-container\">\n",
              "      <div>\n",
              "<style scoped>\n",
              "    .dataframe tbody tr th:only-of-type {\n",
              "        vertical-align: middle;\n",
              "    }\n",
              "\n",
              "    .dataframe tbody tr th {\n",
              "        vertical-align: top;\n",
              "    }\n",
              "\n",
              "    .dataframe thead th {\n",
              "        text-align: right;\n",
              "    }\n",
              "</style>\n",
              "<table border=\"1\" class=\"dataframe\">\n",
              "  <thead>\n",
              "    <tr style=\"text-align: right;\">\n",
              "      <th></th>\n",
              "      <th>Sex</th>\n",
              "      <th>Length</th>\n",
              "      <th>Diameter</th>\n",
              "      <th>Height</th>\n",
              "      <th>Whole weight</th>\n",
              "      <th>Shucked weight</th>\n",
              "      <th>Viscera weight</th>\n",
              "      <th>Shell weight</th>\n",
              "      <th>Rings</th>\n",
              "    </tr>\n",
              "  </thead>\n",
              "  <tbody>\n",
              "    <tr>\n",
              "      <th>0</th>\n",
              "      <td>M</td>\n",
              "      <td>0.455</td>\n",
              "      <td>0.365</td>\n",
              "      <td>0.095</td>\n",
              "      <td>0.5140</td>\n",
              "      <td>0.2245</td>\n",
              "      <td>0.1010</td>\n",
              "      <td>0.150</td>\n",
              "      <td>15</td>\n",
              "    </tr>\n",
              "    <tr>\n",
              "      <th>1</th>\n",
              "      <td>M</td>\n",
              "      <td>0.350</td>\n",
              "      <td>0.265</td>\n",
              "      <td>0.090</td>\n",
              "      <td>0.2255</td>\n",
              "      <td>0.0995</td>\n",
              "      <td>0.0485</td>\n",
              "      <td>0.070</td>\n",
              "      <td>7</td>\n",
              "    </tr>\n",
              "    <tr>\n",
              "      <th>2</th>\n",
              "      <td>F</td>\n",
              "      <td>0.530</td>\n",
              "      <td>0.420</td>\n",
              "      <td>0.135</td>\n",
              "      <td>0.6770</td>\n",
              "      <td>0.2565</td>\n",
              "      <td>0.1415</td>\n",
              "      <td>0.210</td>\n",
              "      <td>9</td>\n",
              "    </tr>\n",
              "    <tr>\n",
              "      <th>3</th>\n",
              "      <td>M</td>\n",
              "      <td>0.440</td>\n",
              "      <td>0.365</td>\n",
              "      <td>0.125</td>\n",
              "      <td>0.5160</td>\n",
              "      <td>0.2155</td>\n",
              "      <td>0.1140</td>\n",
              "      <td>0.155</td>\n",
              "      <td>10</td>\n",
              "    </tr>\n",
              "    <tr>\n",
              "      <th>4</th>\n",
              "      <td>I</td>\n",
              "      <td>0.330</td>\n",
              "      <td>0.255</td>\n",
              "      <td>0.080</td>\n",
              "      <td>0.2050</td>\n",
              "      <td>0.0895</td>\n",
              "      <td>0.0395</td>\n",
              "      <td>0.055</td>\n",
              "      <td>7</td>\n",
              "    </tr>\n",
              "  </tbody>\n",
              "</table>\n",
              "</div>\n",
              "      <button class=\"colab-df-convert\" onclick=\"convertToInteractive('df-3b1a1f21-9cd2-4ca6-9c23-2fd2bd5e116a')\"\n",
              "              title=\"Convert this dataframe to an interactive table.\"\n",
              "              style=\"display:none;\">\n",
              "        \n",
              "  <svg xmlns=\"http://www.w3.org/2000/svg\" height=\"24px\"viewBox=\"0 0 24 24\"\n",
              "       width=\"24px\">\n",
              "    <path d=\"M0 0h24v24H0V0z\" fill=\"none\"/>\n",
              "    <path d=\"M18.56 5.44l.94 2.06.94-2.06 2.06-.94-2.06-.94-.94-2.06-.94 2.06-2.06.94zm-11 1L8.5 8.5l.94-2.06 2.06-.94-2.06-.94L8.5 2.5l-.94 2.06-2.06.94zm10 10l.94 2.06.94-2.06 2.06-.94-2.06-.94-.94-2.06-.94 2.06-2.06.94z\"/><path d=\"M17.41 7.96l-1.37-1.37c-.4-.4-.92-.59-1.43-.59-.52 0-1.04.2-1.43.59L10.3 9.45l-7.72 7.72c-.78.78-.78 2.05 0 2.83L4 21.41c.39.39.9.59 1.41.59.51 0 1.02-.2 1.41-.59l7.78-7.78 2.81-2.81c.8-.78.8-2.07 0-2.86zM5.41 20L4 18.59l7.72-7.72 1.47 1.35L5.41 20z\"/>\n",
              "  </svg>\n",
              "      </button>\n",
              "      \n",
              "  <style>\n",
              "    .colab-df-container {\n",
              "      display:flex;\n",
              "      flex-wrap:wrap;\n",
              "      gap: 12px;\n",
              "    }\n",
              "\n",
              "    .colab-df-convert {\n",
              "      background-color: #E8F0FE;\n",
              "      border: none;\n",
              "      border-radius: 50%;\n",
              "      cursor: pointer;\n",
              "      display: none;\n",
              "      fill: #1967D2;\n",
              "      height: 32px;\n",
              "      padding: 0 0 0 0;\n",
              "      width: 32px;\n",
              "    }\n",
              "\n",
              "    .colab-df-convert:hover {\n",
              "      background-color: #E2EBFA;\n",
              "      box-shadow: 0px 1px 2px rgba(60, 64, 67, 0.3), 0px 1px 3px 1px rgba(60, 64, 67, 0.15);\n",
              "      fill: #174EA6;\n",
              "    }\n",
              "\n",
              "    [theme=dark] .colab-df-convert {\n",
              "      background-color: #3B4455;\n",
              "      fill: #D2E3FC;\n",
              "    }\n",
              "\n",
              "    [theme=dark] .colab-df-convert:hover {\n",
              "      background-color: #434B5C;\n",
              "      box-shadow: 0px 1px 3px 1px rgba(0, 0, 0, 0.15);\n",
              "      filter: drop-shadow(0px 1px 2px rgba(0, 0, 0, 0.3));\n",
              "      fill: #FFFFFF;\n",
              "    }\n",
              "  </style>\n",
              "\n",
              "      <script>\n",
              "        const buttonEl =\n",
              "          document.querySelector('#df-3b1a1f21-9cd2-4ca6-9c23-2fd2bd5e116a button.colab-df-convert');\n",
              "        buttonEl.style.display =\n",
              "          google.colab.kernel.accessAllowed ? 'block' : 'none';\n",
              "\n",
              "        async function convertToInteractive(key) {\n",
              "          const element = document.querySelector('#df-3b1a1f21-9cd2-4ca6-9c23-2fd2bd5e116a');\n",
              "          const dataTable =\n",
              "            await google.colab.kernel.invokeFunction('convertToInteractive',\n",
              "                                                     [key], {});\n",
              "          if (!dataTable) return;\n",
              "\n",
              "          const docLinkHtml = 'Like what you see? Visit the ' +\n",
              "            '<a target=\"_blank\" href=https://colab.research.google.com/notebooks/data_table.ipynb>data table notebook</a>'\n",
              "            + ' to learn more about interactive tables.';\n",
              "          element.innerHTML = '';\n",
              "          dataTable['output_type'] = 'display_data';\n",
              "          await google.colab.output.renderOutput(dataTable, element);\n",
              "          const docLink = document.createElement('div');\n",
              "          docLink.innerHTML = docLinkHtml;\n",
              "          element.appendChild(docLink);\n",
              "        }\n",
              "      </script>\n",
              "    </div>\n",
              "  </div>\n",
              "  "
            ]
          },
          "metadata": {},
          "execution_count": 3
        }
      ]
    },
    {
      "cell_type": "code",
      "source": [
        "matrix = df.loc[:, df.columns != \"Sex\"]"
      ],
      "metadata": {
        "id": "LZVpRsIWES1m"
      },
      "execution_count": 4,
      "outputs": []
    },
    {
      "cell_type": "code",
      "source": [
        "matrix.head()"
      ],
      "metadata": {
        "id": "ouun_4v-FRfD",
        "outputId": "ed3c6b48-498e-4116-a742-00686cc2b985",
        "colab": {
          "base_uri": "https://localhost:8080/",
          "height": 206
        }
      },
      "execution_count": 5,
      "outputs": [
        {
          "output_type": "execute_result",
          "data": {
            "text/plain": [
              "   Length  Diameter  Height  Whole weight  Shucked weight  Viscera weight  \\\n",
              "0   0.455     0.365   0.095        0.5140          0.2245          0.1010   \n",
              "1   0.350     0.265   0.090        0.2255          0.0995          0.0485   \n",
              "2   0.530     0.420   0.135        0.6770          0.2565          0.1415   \n",
              "3   0.440     0.365   0.125        0.5160          0.2155          0.1140   \n",
              "4   0.330     0.255   0.080        0.2050          0.0895          0.0395   \n",
              "\n",
              "   Shell weight  Rings  \n",
              "0         0.150     15  \n",
              "1         0.070      7  \n",
              "2         0.210      9  \n",
              "3         0.155     10  \n",
              "4         0.055      7  "
            ],
            "text/html": [
              "\n",
              "  <div id=\"df-a28efa22-d414-4462-9b7d-541782c8d86a\">\n",
              "    <div class=\"colab-df-container\">\n",
              "      <div>\n",
              "<style scoped>\n",
              "    .dataframe tbody tr th:only-of-type {\n",
              "        vertical-align: middle;\n",
              "    }\n",
              "\n",
              "    .dataframe tbody tr th {\n",
              "        vertical-align: top;\n",
              "    }\n",
              "\n",
              "    .dataframe thead th {\n",
              "        text-align: right;\n",
              "    }\n",
              "</style>\n",
              "<table border=\"1\" class=\"dataframe\">\n",
              "  <thead>\n",
              "    <tr style=\"text-align: right;\">\n",
              "      <th></th>\n",
              "      <th>Length</th>\n",
              "      <th>Diameter</th>\n",
              "      <th>Height</th>\n",
              "      <th>Whole weight</th>\n",
              "      <th>Shucked weight</th>\n",
              "      <th>Viscera weight</th>\n",
              "      <th>Shell weight</th>\n",
              "      <th>Rings</th>\n",
              "    </tr>\n",
              "  </thead>\n",
              "  <tbody>\n",
              "    <tr>\n",
              "      <th>0</th>\n",
              "      <td>0.455</td>\n",
              "      <td>0.365</td>\n",
              "      <td>0.095</td>\n",
              "      <td>0.5140</td>\n",
              "      <td>0.2245</td>\n",
              "      <td>0.1010</td>\n",
              "      <td>0.150</td>\n",
              "      <td>15</td>\n",
              "    </tr>\n",
              "    <tr>\n",
              "      <th>1</th>\n",
              "      <td>0.350</td>\n",
              "      <td>0.265</td>\n",
              "      <td>0.090</td>\n",
              "      <td>0.2255</td>\n",
              "      <td>0.0995</td>\n",
              "      <td>0.0485</td>\n",
              "      <td>0.070</td>\n",
              "      <td>7</td>\n",
              "    </tr>\n",
              "    <tr>\n",
              "      <th>2</th>\n",
              "      <td>0.530</td>\n",
              "      <td>0.420</td>\n",
              "      <td>0.135</td>\n",
              "      <td>0.6770</td>\n",
              "      <td>0.2565</td>\n",
              "      <td>0.1415</td>\n",
              "      <td>0.210</td>\n",
              "      <td>9</td>\n",
              "    </tr>\n",
              "    <tr>\n",
              "      <th>3</th>\n",
              "      <td>0.440</td>\n",
              "      <td>0.365</td>\n",
              "      <td>0.125</td>\n",
              "      <td>0.5160</td>\n",
              "      <td>0.2155</td>\n",
              "      <td>0.1140</td>\n",
              "      <td>0.155</td>\n",
              "      <td>10</td>\n",
              "    </tr>\n",
              "    <tr>\n",
              "      <th>4</th>\n",
              "      <td>0.330</td>\n",
              "      <td>0.255</td>\n",
              "      <td>0.080</td>\n",
              "      <td>0.2050</td>\n",
              "      <td>0.0895</td>\n",
              "      <td>0.0395</td>\n",
              "      <td>0.055</td>\n",
              "      <td>7</td>\n",
              "    </tr>\n",
              "  </tbody>\n",
              "</table>\n",
              "</div>\n",
              "      <button class=\"colab-df-convert\" onclick=\"convertToInteractive('df-a28efa22-d414-4462-9b7d-541782c8d86a')\"\n",
              "              title=\"Convert this dataframe to an interactive table.\"\n",
              "              style=\"display:none;\">\n",
              "        \n",
              "  <svg xmlns=\"http://www.w3.org/2000/svg\" height=\"24px\"viewBox=\"0 0 24 24\"\n",
              "       width=\"24px\">\n",
              "    <path d=\"M0 0h24v24H0V0z\" fill=\"none\"/>\n",
              "    <path d=\"M18.56 5.44l.94 2.06.94-2.06 2.06-.94-2.06-.94-.94-2.06-.94 2.06-2.06.94zm-11 1L8.5 8.5l.94-2.06 2.06-.94-2.06-.94L8.5 2.5l-.94 2.06-2.06.94zm10 10l.94 2.06.94-2.06 2.06-.94-2.06-.94-.94-2.06-.94 2.06-2.06.94z\"/><path d=\"M17.41 7.96l-1.37-1.37c-.4-.4-.92-.59-1.43-.59-.52 0-1.04.2-1.43.59L10.3 9.45l-7.72 7.72c-.78.78-.78 2.05 0 2.83L4 21.41c.39.39.9.59 1.41.59.51 0 1.02-.2 1.41-.59l7.78-7.78 2.81-2.81c.8-.78.8-2.07 0-2.86zM5.41 20L4 18.59l7.72-7.72 1.47 1.35L5.41 20z\"/>\n",
              "  </svg>\n",
              "      </button>\n",
              "      \n",
              "  <style>\n",
              "    .colab-df-container {\n",
              "      display:flex;\n",
              "      flex-wrap:wrap;\n",
              "      gap: 12px;\n",
              "    }\n",
              "\n",
              "    .colab-df-convert {\n",
              "      background-color: #E8F0FE;\n",
              "      border: none;\n",
              "      border-radius: 50%;\n",
              "      cursor: pointer;\n",
              "      display: none;\n",
              "      fill: #1967D2;\n",
              "      height: 32px;\n",
              "      padding: 0 0 0 0;\n",
              "      width: 32px;\n",
              "    }\n",
              "\n",
              "    .colab-df-convert:hover {\n",
              "      background-color: #E2EBFA;\n",
              "      box-shadow: 0px 1px 2px rgba(60, 64, 67, 0.3), 0px 1px 3px 1px rgba(60, 64, 67, 0.15);\n",
              "      fill: #174EA6;\n",
              "    }\n",
              "\n",
              "    [theme=dark] .colab-df-convert {\n",
              "      background-color: #3B4455;\n",
              "      fill: #D2E3FC;\n",
              "    }\n",
              "\n",
              "    [theme=dark] .colab-df-convert:hover {\n",
              "      background-color: #434B5C;\n",
              "      box-shadow: 0px 1px 3px 1px rgba(0, 0, 0, 0.15);\n",
              "      filter: drop-shadow(0px 1px 2px rgba(0, 0, 0, 0.3));\n",
              "      fill: #FFFFFF;\n",
              "    }\n",
              "  </style>\n",
              "\n",
              "      <script>\n",
              "        const buttonEl =\n",
              "          document.querySelector('#df-a28efa22-d414-4462-9b7d-541782c8d86a button.colab-df-convert');\n",
              "        buttonEl.style.display =\n",
              "          google.colab.kernel.accessAllowed ? 'block' : 'none';\n",
              "\n",
              "        async function convertToInteractive(key) {\n",
              "          const element = document.querySelector('#df-a28efa22-d414-4462-9b7d-541782c8d86a');\n",
              "          const dataTable =\n",
              "            await google.colab.kernel.invokeFunction('convertToInteractive',\n",
              "                                                     [key], {});\n",
              "          if (!dataTable) return;\n",
              "\n",
              "          const docLinkHtml = 'Like what you see? Visit the ' +\n",
              "            '<a target=\"_blank\" href=https://colab.research.google.com/notebooks/data_table.ipynb>data table notebook</a>'\n",
              "            + ' to learn more about interactive tables.';\n",
              "          element.innerHTML = '';\n",
              "          dataTable['output_type'] = 'display_data';\n",
              "          await google.colab.output.renderOutput(dataTable, element);\n",
              "          const docLink = document.createElement('div');\n",
              "          docLink.innerHTML = docLinkHtml;\n",
              "          element.appendChild(docLink);\n",
              "        }\n",
              "      </script>\n",
              "    </div>\n",
              "  </div>\n",
              "  "
            ]
          },
          "metadata": {},
          "execution_count": 5
        }
      ]
    },
    {
      "cell_type": "code",
      "source": [
        "import numpy as np\n",
        "import matplotlib.pyplot as plt"
      ],
      "metadata": {
        "id": "PWZPVXTvFT_t"
      },
      "execution_count": 6,
      "outputs": []
    },
    {
      "cell_type": "code",
      "source": [
        "matrix1 = matrix - matrix.mean()"
      ],
      "metadata": {
        "id": "gB9Ge0vqHx0L"
      },
      "execution_count": 16,
      "outputs": []
    },
    {
      "cell_type": "code",
      "source": [
        "Cov = np.sqrt(matrix.T @ matrix) / 100\n",
        "print(Cov)"
      ],
      "metadata": {
        "id": "3hgdRuTmFofD",
        "outputId": "d81fa021-ee44-4305-8a01-e8e97392abc3",
        "colab": {
          "base_uri": "https://localhost:8080/"
        }
      },
      "execution_count": 10,
      "outputs": [
        {
          "output_type": "stream",
          "name": "stdout",
          "text": [
            "                  Length  Diameter    Height  Whole weight  Shucked weight  \\\n",
            "Length          0.347433  0.306896  0.179644      0.451822        0.297742   \n",
            "Diameter        0.306896  0.271301  0.158792      0.400003        0.263519   \n",
            "Height          0.179644  0.158792  0.094133      0.235187        0.154748   \n",
            "Whole weight    0.451822  0.400003  0.235187      0.622340        0.410445   \n",
            "Shucked weight  0.297742  0.263519  0.154748      0.410445        0.272980   \n",
            "Viscera weight  0.210929  0.186696  0.109785      0.290186        0.191253   \n",
            "Shell weight    0.241951  0.214273  0.126117      0.331526        0.217345   \n",
            "Rings           1.504732  1.330115  0.781211      1.948205        1.271576   \n",
            "\n",
            "                Viscera weight  Shell weight     Rings  \n",
            "Length                0.210929      0.241951  1.504732  \n",
            "Diameter              0.186696      0.214273  1.330115  \n",
            "Height                0.109785      0.126117  0.781211  \n",
            "Whole weight          0.290186      0.331526  1.948205  \n",
            "Shucked weight        0.191253      0.217345  1.271576  \n",
            "Viscera weight        0.136530      0.154271  0.907576  \n",
            "Shell weight          0.154271      0.178655  1.052902  \n",
            "Rings                 0.907576      1.052902  6.749733  \n"
          ]
        }
      ]
    },
    {
      "cell_type": "code",
      "source": [
        "eigval, eigvec = np.linalg.eig(Cov)"
      ],
      "metadata": {
        "id": "id_hfhxPFzgR"
      },
      "execution_count": 11,
      "outputs": []
    },
    {
      "cell_type": "code",
      "source": [
        "print(eigvec)"
      ],
      "metadata": {
        "id": "RtdeqHzNF-W3",
        "outputId": "f8202dbe-e551-4fdb-ba46-1dfcd6097742",
        "colab": {
          "base_uri": "https://localhost:8080/"
        }
      },
      "execution_count": 12,
      "outputs": [
        {
          "output_type": "stream",
          "name": "stdout",
          "text": [
            "[[ 1.99400847e-01 -1.47243569e-01  6.69809856e-01  1.00193744e-01\n",
            "  -6.44205889e-01 -3.27943629e-02 -2.52572937e-01 -2.19502864e-03]\n",
            " [ 1.76291759e-01 -1.36620321e-01  5.53976973e-01  1.23612203e-01\n",
            "   7.63829532e-01 -2.54359322e-02 -2.07665500e-01 -2.96334320e-02]\n",
            " [ 1.03539404e-01 -8.18270513e-02  2.69703154e-01  1.76758854e-01\n",
            "  -7.27394889e-03 -2.27582781e-02  9.35911935e-01  4.58087608e-02]\n",
            " [ 2.60478721e-01 -6.22686739e-01 -2.73521323e-01  3.79331444e-02\n",
            "  -9.55172892e-03 -6.83527491e-01 -2.86057945e-02  6.31386501e-03]\n",
            " [ 1.70416717e-01 -4.69457727e-01  2.96973602e-03 -6.48832153e-01\n",
            "   5.40666600e-03  4.48381510e-01  8.97187200e-02 -3.47060433e-01]\n",
            " [ 1.21390393e-01 -2.96408953e-01 -9.16183709e-02  2.66850261e-02\n",
            "   1.28917580e-02  3.64416550e-01 -5.14847698e-02  8.67573506e-01]\n",
            " [ 1.40390818e-01 -2.73735465e-01 -2.50715928e-01  7.17773197e-01\n",
            "  -3.49753954e-02  4.43409559e-01 -7.50409818e-02 -3.51903411e-01]\n",
            " [ 8.87188750e-01  4.26661281e-01 -1.60154122e-01 -7.14493282e-02\n",
            "  -6.04817034e-04  9.60912784e-03 -1.10950177e-03  2.82690671e-03]]\n"
          ]
        }
      ]
    },
    {
      "cell_type": "code",
      "source": [
        "eigval"
      ],
      "metadata": {
        "id": "QUbxcWVmHYtv",
        "outputId": "99743999-a5b6-4ef3-fd97-743c2056c607",
        "colab": {
          "base_uri": "https://localhost:8080/"
        }
      },
      "execution_count": 15,
      "outputs": [
        {
          "output_type": "execute_result",
          "data": {
            "text/plain": [
              "array([8.55044574e+00, 1.06267118e-01, 1.12032030e-02, 2.36563066e-03,\n",
              "       1.05966003e-04, 3.27628895e-04, 9.87982913e-04, 1.40246899e-03])"
            ]
          },
          "metadata": {},
          "execution_count": 15
        }
      ]
    },
    {
      "cell_type": "code",
      "source": [
        "xpoint = matrix.dot(eigvec.T[0])\n",
        "ypoint = matrix.dot(eigvec.T[1])\n",
        "\n",
        "plt.hist(xpoint, bins=50)\n",
        "plt.hist(ypoint, bins=50)"
      ],
      "metadata": {
        "id": "Yai9NN9jGAp6",
        "outputId": "8f855084-67ea-4a2f-a97c-c3a0a02ca0d7",
        "colab": {
          "base_uri": "https://localhost:8080/",
          "height": 568
        }
      },
      "execution_count": 14,
      "outputs": [
        {
          "output_type": "execute_result",
          "data": {
            "text/plain": [
              "(array([  1.,   1.,   0.,   9.,  11.,  44.,  50., 147., 199., 379., 396.,\n",
              "        519., 434., 342., 316., 210., 168., 145., 107., 102.,  86.,  79.,\n",
              "         60.,  58.,  54.,  34.,  41.,  21.,  36.,  18.,  17.,   9.,  17.,\n",
              "         19.,  14.,   8.,   3.,   3.,   2.,   3.,   6.,   0.,   4.,   2.,\n",
              "          0.,   0.,   0.,   1.,   1.,   1.]),\n",
              " array([ 0.40501199,  0.60677209,  0.8085322 ,  1.0102923 ,  1.2120524 ,\n",
              "         1.41381251,  1.61557261,  1.81733272,  2.01909282,  2.22085293,\n",
              "         2.42261303,  2.62437314,  2.82613324,  3.02789335,  3.22965345,\n",
              "         3.43141356,  3.63317366,  3.83493377,  4.03669387,  4.23845398,\n",
              "         4.44021408,  4.64197419,  4.84373429,  5.04549439,  5.2472545 ,\n",
              "         5.4490146 ,  5.65077471,  5.85253481,  6.05429492,  6.25605502,\n",
              "         6.45781513,  6.65957523,  6.86133534,  7.06309544,  7.26485555,\n",
              "         7.46661565,  7.66837576,  7.87013586,  8.07189597,  8.27365607,\n",
              "         8.47541617,  8.67717628,  8.87893638,  9.08069649,  9.28245659,\n",
              "         9.4842167 ,  9.6859768 ,  9.88773691, 10.08949701, 10.29125712,\n",
              "        10.49301722]),\n",
              " <a list of 50 Patch objects>)"
            ]
          },
          "metadata": {},
          "execution_count": 14
        },
        {
          "output_type": "display_data",
          "data": {
            "text/plain": [
              "<Figure size 432x288 with 1 Axes>"
            ],
            "image/png": "[encoded data removed]"
          },
          "metadata": {
            "needs_background": "light"
          }
        }
      ]
    },
    {
      "cell_type": "code",
      "source": [
        "Cov = np.sqrt(matrix.T @ matrix) / 100\n",
        "print(Cov)"
      ],
      "metadata": {
        "id": "BI6wSSROGokK",
        "outputId": "2d782779-0ec8-4b7b-d041-4e1ccc6760c7",
        "colab": {
          "base_uri": "https://localhost:8080/"
        }
      },
      "execution_count": 17,
      "outputs": [
        {
          "output_type": "stream",
          "name": "stdout",
          "text": [
            "                  Length  Diameter    Height  Whole weight  Shucked weight  \\\n",
            "Length          0.347433  0.306896  0.179644      0.451822        0.297742   \n",
            "Diameter        0.306896  0.271301  0.158792      0.400003        0.263519   \n",
            "Height          0.179644  0.158792  0.094133      0.235187        0.154748   \n",
            "Whole weight    0.451822  0.400003  0.235187      0.622340        0.410445   \n",
            "Shucked weight  0.297742  0.263519  0.154748      0.410445        0.272980   \n",
            "Viscera weight  0.210929  0.186696  0.109785      0.290186        0.191253   \n",
            "Shell weight    0.241951  0.214273  0.126117      0.331526        0.217345   \n",
            "Rings           1.504732  1.330115  0.781211      1.948205        1.271576   \n",
            "\n",
            "                Viscera weight  Shell weight     Rings  \n",
            "Length                0.210929      0.241951  1.504732  \n",
            "Diameter              0.186696      0.214273  1.330115  \n",
            "Height                0.109785      0.126117  0.781211  \n",
            "Whole weight          0.290186      0.331526  1.948205  \n",
            "Shucked weight        0.191253      0.217345  1.271576  \n",
            "Viscera weight        0.136530      0.154271  0.907576  \n",
            "Shell weight          0.154271      0.178655  1.052902  \n",
            "Rings                 0.907576      1.052902  6.749733  \n"
          ]
        }
      ]
    },
    {
      "cell_type": "code",
      "source": [
        "cov1 = np.cov(matrix1.T)\n",
        "print(cov1)\n",
        "cov2 = np.sqrt(matrix1.T @ matrix1) / 10\n",
        "print(cov2)"
      ],
      "metadata": {
        "id": "kum0h1x2H9xo",
        "outputId": "bdc2c254-0300-4375-baae-65ad7f234600",
        "colab": {
          "base_uri": "https://localhost:8080/"
        }
      },
      "execution_count": 43,
      "outputs": [
        {
          "output_type": "stream",
          "name": "stdout",
          "text": [
            "[[1.44223076e-02 1.17608250e-02 4.15691189e-03 5.44907081e-02\n",
            "  2.39349454e-02 1.18872298e-02 1.50071720e-02 2.15561736e-01]\n",
            " [1.17608250e-02 9.84855103e-03 3.46054721e-03 4.50381820e-02\n",
            "  1.96742019e-02 9.78729548e-03 1.25066369e-02 1.83871673e-01]\n",
            " [4.15691189e-03 3.46054721e-03 1.74950266e-03 1.68034708e-02\n",
            "  7.19488681e-03 3.66016741e-03 4.75889986e-03 7.51786501e-02]\n",
            " [5.44907081e-02 4.50381820e-02 1.68034708e-02 2.40481389e-01\n",
            "  1.05518032e-01 5.19461632e-02 6.52158684e-02 8.54408544e-01]\n",
            " [2.39349454e-02 1.96742019e-02 7.19488681e-03 1.05518032e-01\n",
            "  4.92675507e-02 2.26749006e-02 2.72709563e-02 3.01203734e-01]\n",
            " [1.18872298e-02 9.78729548e-03 3.66016741e-03 5.19461632e-02\n",
            "  2.26749006e-02 1.20152839e-02 1.38495613e-02 1.78057215e-01]\n",
            " [1.50071720e-02 1.25066369e-02 4.75889986e-03 6.52158684e-02\n",
            "  2.72709563e-02 1.38495613e-02 1.93773832e-02 2.81663350e-01]\n",
            " [2.15561736e-01 1.83871673e-01 7.51786501e-02 8.54408544e-01\n",
            "  3.01203734e-01 1.78057215e-01 2.81663350e-01 1.03952659e+01]]\n",
            "                  Length  Diameter    Height  Whole weight  Shucked weight  \\\n",
            "Length          0.776064  0.700808  0.416645      1.508487        0.999762   \n",
            "Diameter        0.700808  0.641308  0.380148      1.371421        0.906419   \n",
            "Height          0.416645  0.380148  0.270295      0.837683        0.548141   \n",
            "Whole weight    1.508487  1.371421  0.837683      3.168991        2.099151   \n",
            "Shucked weight  0.999762  0.906419  0.548141      2.099151        1.434368   \n",
            "Viscera weight  0.704564  0.639310  0.390959      1.472845        0.973090   \n",
            "Shell weight    0.791644  0.722687  0.445793      1.650277        1.067162   \n",
            "Rings           3.000310  2.771007  1.771852      5.973282        3.546585   \n",
            "\n",
            "                Viscera weight  Shell weight      Rings  \n",
            "Length                0.704564      0.791644   3.000310  \n",
            "Diameter              0.639310      0.722687   2.771007  \n",
            "Height                0.390959      0.445793   1.771852  \n",
            "Whole weight          1.472845      1.650277   5.973282  \n",
            "Shucked weight        0.973090      1.067162   3.546585  \n",
            "Viscera weight        0.708349      0.760498   2.726842  \n",
            "Shell weight          0.760498      0.899555   3.429615  \n",
            "Rings                 2.726842      3.429615  20.835218  \n"
          ]
        }
      ]
    },
    {
      "cell_type": "code",
      "source": [
        "cov1df = pd.DataFrame(cov1)\n",
        "cov1df.shape"
      ],
      "metadata": {
        "id": "Fm340FepLcxN",
        "outputId": "b472fd91-2fc3-4170-edd3-e7a66ee73474",
        "colab": {
          "base_uri": "https://localhost:8080/"
        }
      },
      "execution_count": 45,
      "outputs": [
        {
          "output_type": "execute_result",
          "data": {
            "text/plain": [
              "(8, 8)"
            ]
          },
          "metadata": {},
          "execution_count": 45
        }
      ]
    },
    {
      "cell_type": "code",
      "source": [
        "eigval, eigvec = np.linalg.eig(cov2)"
      ],
      "metadata": {
        "id": "XeEiANDjIXTF"
      },
      "execution_count": 34,
      "outputs": []
    },
    {
      "cell_type": "code",
      "source": [
        "xpoint = matrix1.dot(eigvec.T[0])\n",
        "ypoint = matrix1.dot(eigvec.T[1])\n",
        "\n",
        "plt.hist(xpoint, bins=50)\n",
        "plt.hist(ypoint, bins=50)"
      ],
      "metadata": {
        "id": "WN090GDuIfR5",
        "outputId": "c3476fa6-6a09-4cba-947a-41ecc9ce3a84",
        "colab": {
          "base_uri": "https://localhost:8080/",
          "height": 568
        }
      },
      "execution_count": 35,
      "outputs": [
        {
          "output_type": "execute_result",
          "data": {
            "text/plain": [
              "(array([  1.,   1.,   0.,  14.,   4.,  54.,  46., 139., 207., 346., 409.,\n",
              "        502., 441., 367., 320., 208., 173., 145., 102., 110.,  82.,  76.,\n",
              "         63.,  60.,  45.,  39.,  38.,  22.,  37.,  19.,  14.,  11.,  20.,\n",
              "         13.,  15.,   9.,   4.,   1.,   3.,   4.,   4.,   3.,   1.,   1.,\n",
              "          1.,   0.,   1.,   0.,   1.,   1.]),\n",
              " array([-3.12387398, -2.90550462, -2.68713526, -2.4687659 , -2.25039654,\n",
              "        -2.03202718, -1.81365781, -1.59528845, -1.37691909, -1.15854973,\n",
              "        -0.94018037, -0.72181101, -0.50344165, -0.28507229, -0.06670293,\n",
              "         0.15166643,  0.37003579,  0.58840515,  0.80677451,  1.02514387,\n",
              "         1.24351323,  1.46188259,  1.68025195,  1.89862131,  2.11699067,\n",
              "         2.33536003,  2.55372939,  2.77209875,  2.99046811,  3.20883747,\n",
              "         3.42720683,  3.64557619,  3.86394555,  4.08231491,  4.30068427,\n",
              "         4.51905363,  4.737423  ,  4.95579236,  5.17416172,  5.39253108,\n",
              "         5.61090044,  5.8292698 ,  6.04763916,  6.26600852,  6.48437788,\n",
              "         6.70274724,  6.9211166 ,  7.13948596,  7.35785532,  7.57622468,\n",
              "         7.79459404]),\n",
              " <a list of 50 Patch objects>)"
            ]
          },
          "metadata": {},
          "execution_count": 35
        },
        {
          "output_type": "display_data",
          "data": {
            "text/plain": [
              "<Figure size 432x288 with 1 Axes>"
            ],
            "image/png": "[encoded data removed]"
          },
          "metadata": {
            "needs_background": "light"
          }
        }
      ]
    },
    {
      "cell_type": "code",
      "source": [
        "eigval, eigvec = np.linalg.eig(cov1df)\n",
        "xpoint = matrix1.dot(eigvec.T[0])\n",
        "ypoint = matrix1.dot(eigvec.T[1])\n",
        "\n",
        "plt.hist(xpoint, bins=50)\n",
        "plt.hist(ypoint, bins=50)"
      ],
      "metadata": {
        "id": "-n0P8eCVI0Oo",
        "outputId": "769a3302-8fe1-43f7-e6d1-c6badcbb6028",
        "colab": {
          "base_uri": "https://localhost:8080/",
          "height": 568
        }
      },
      "execution_count": 46,
      "outputs": [
        {
          "output_type": "execute_result",
          "data": {
            "text/plain": [
              "(array([  5.,   6.,   1.,   3.,   8.,   7.,  15.,  14.,  35.,  58.,  90.,\n",
              "         89., 134., 215., 307., 302., 245., 250., 234., 218., 202., 181.,\n",
              "        185., 163., 179., 169., 145., 133.,  92., 104.,  86.,  52.,  65.,\n",
              "         33.,  34.,  21.,  12.,  22.,  15.,   8.,  10.,   6.,   9.,   5.,\n",
              "          1.,   3.,   2.,   2.,   0.,   2.]),\n",
              " array([-1.43196912, -1.36161026, -1.29125141, -1.22089256, -1.15053371,\n",
              "        -1.08017486, -1.00981601, -0.93945716, -0.86909831, -0.79873946,\n",
              "        -0.7283806 , -0.65802175, -0.5876629 , -0.51730405, -0.4469452 ,\n",
              "        -0.37658635, -0.3062275 , -0.23586865, -0.1655098 , -0.09515094,\n",
              "        -0.02479209,  0.04556676,  0.11592561,  0.18628446,  0.25664331,\n",
              "         0.32700216,  0.39736101,  0.46771987,  0.53807872,  0.60843757,\n",
              "         0.67879642,  0.74915527,  0.81951412,  0.88987297,  0.96023182,\n",
              "         1.03059067,  1.10094953,  1.17130838,  1.24166723,  1.31202608,\n",
              "         1.38238493,  1.45274378,  1.52310263,  1.59346148,  1.66382033,\n",
              "         1.73417919,  1.80453804,  1.87489689,  1.94525574,  2.01561459,\n",
              "         2.08597344]),\n",
              " <a list of 50 Patch objects>)"
            ]
          },
          "metadata": {},
          "execution_count": 46
        },
        {
          "output_type": "display_data",
          "data": {
            "text/plain": [
              "<Figure size 432x288 with 1 Axes>"
            ],
            "image/png": "[encoded data removed]"
          },
          "metadata": {
            "needs_background": "light"
          }
        }
      ]
    },
    {
      "cell_type": "code",
      "source": [
        "plt.scatter(xpoint, ypoint)"
      ],
      "metadata": {
        "id": "73AXqMW1I_rz",
        "outputId": "0603ff32-1f64-4d90-a7d6-9b1c28a1f972",
        "colab": {
          "base_uri": "https://localhost:8080/",
          "height": 283
        }
      },
      "execution_count": 47,
      "outputs": [
        {
          "output_type": "execute_result",
          "data": {
            "text/plain": [
              "<matplotlib.collections.PathCollection at 0x7f9b82de7e80>"
            ]
          },
          "metadata": {},
          "execution_count": 47
        },
        {
          "output_type": "display_data",
          "data": {
            "text/plain": [
              "<Figure size 432x288 with 1 Axes>"
            ],
            "image/png": "[encoded data removed]"
          },
          "metadata": {
            "needs_background": "light"
          }
        }
      ]
    },
    {
      "cell_type": "code",
      "source": [
        "pca = matrix1.dot(eigvec)\n",
        "plt.scatter(pca.loc[:,0], pca.loc[:,6])"
      ],
      "metadata": {
        "id": "EklIqc88NiBv",
        "outputId": "8e852f4e-26c3-4b0c-9bff-f9d9be84d8cf",
        "colab": {
          "base_uri": "https://localhost:8080/",
          "height": 283
        }
      },
      "execution_count": 65,
      "outputs": [
        {
          "output_type": "execute_result",
          "data": {
            "text/plain": [
              "<matplotlib.collections.PathCollection at 0x7f9b8283efd0>"
            ]
          },
          "metadata": {},
          "execution_count": 65
        },
        {
          "output_type": "display_data",
          "data": {
            "text/plain": [
              "<Figure size 432x288 with 1 Axes>"
            ],
            "image/png": "[encoded data removed]"
          },
          "metadata": {
            "needs_background": "light"
          }
        }
      ]
    },
    {
      "cell_type": "code",
      "source": [
        "plt.scatter(matrix1.iloc[:,0], matrix1.iloc[:,1])"
      ],
      "metadata": {
        "id": "YUduZ6cpQjpy",
        "outputId": "d6f383d9-e84c-480e-9162-75830f913122",
        "colab": {
          "base_uri": "https://localhost:8080/",
          "height": 283
        }
      },
      "execution_count": 70,
      "outputs": [
        {
          "output_type": "execute_result",
          "data": {
            "text/plain": [
              "<matplotlib.collections.PathCollection at 0x7f9b82696280>"
            ]
          },
          "metadata": {},
          "execution_count": 70
        },
        {
          "output_type": "display_data",
          "data": {
            "text/plain": [
              "<Figure size 432x288 with 1 Axes>"
            ],
            "image/png": "[encoded data removed]"
          },
          "metadata": {
            "needs_background": "light"
          }
        }
      ]
    },
    {
      "cell_type": "code",
      "source": [
        "plt.scatter(matrix1.iloc[:,0], matrix1.iloc[:,2])"
      ],
      "metadata": {
        "id": "2898DAhAU4nH",
        "outputId": "4348685c-0813-40b7-daa6-938f03f9cda5",
        "colab": {
          "base_uri": "https://localhost:8080/",
          "height": 283
        }
      },
      "execution_count": 71,
      "outputs": [
        {
          "output_type": "execute_result",
          "data": {
            "text/plain": [
              "<matplotlib.collections.PathCollection at 0x7f9b82677ca0>"
            ]
          },
          "metadata": {},
          "execution_count": 71
        },
        {
          "output_type": "display_data",
          "data": {
            "text/plain": [
              "<Figure size 432x288 with 1 Axes>"
            ],
            "image/png": "[encoded data removed]"
          },
          "metadata": {
            "needs_background": "light"
          }
        }
      ]
    },
    {
      "cell_type": "code",
      "source": [
        "plt.scatter(matrix1.iloc[:,0], matrix1.iloc[:,3])"
      ],
      "metadata": {
        "id": "bWhh5W6LVTmO",
        "outputId": "ad9405cb-4052-4cd3-f4cc-d9de82c0333d",
        "colab": {
          "base_uri": "https://localhost:8080/",
          "height": 283
        }
      },
      "execution_count": 72,
      "outputs": [
        {
          "output_type": "execute_result",
          "data": {
            "text/plain": [
              "<matplotlib.collections.PathCollection at 0x7f9b825d24f0>"
            ]
          },
          "metadata": {},
          "execution_count": 72
        },
        {
          "output_type": "display_data",
          "data": {
            "text/plain": [
              "<Figure size 432x288 with 1 Axes>"
            ],
            "image/png": "[encoded data removed]"
          },
          "metadata": {
            "needs_background": "light"
          }
        }
      ]
    },
    {
      "cell_type": "code",
      "source": [],
      "metadata": {
        "id": "p7ZUf1A2VWhw"
      },
      "execution_count": null,
      "outputs": []
    }
  ]
}